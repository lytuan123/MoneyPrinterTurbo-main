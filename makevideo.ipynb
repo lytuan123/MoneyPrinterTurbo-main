{
  "cells": [
    {
      "cell_type": "code",
      "execution_count": null,
      "metadata": {
        "colab": {
          "base_uri": "https://localhost:8080/"
        },
        "id": "uD1pJDCYx2Oo",
        "outputId": "c3e212c2-9a62-4a15-c4d0-f5c1c318323d"
      },
      "outputs": [],
      "source": [
        "!git clone https://github.com/harry0703/MoneyPrinterTurbo.git\n"
      ]
    },
    {
      "cell_type": "code",
      "execution_count": null,
      "metadata": {
        "colab": {
          "base_uri": "https://localhost:8080/"
        },
        "id": "rPnjxSIMU0wF",
        "outputId": "ad571d8f-002b-4d35-824b-fd622486d8cd"
      },
      "outputs": [],
      "source": [
        "%cd MoneyPrinterTurbo\n",
        "!pip install -r requirements.txt"
      ]
    },
    {
      "cell_type": "code",
      "execution_count": null,
      "metadata": {
        "colab": {
          "base_uri": "https://localhost:8080/"
        },
        "id": "0RgrJizvx4Ym",
        "outputId": "7107bf16-0871-42f9-e302-54bb15ac22f5"
      },
      "outputs": [],
      "source": [
        "!apt-get install imagemagick\n",
        "!apt-get install ffmpeg\n",
        "!pip install -q pyngrok"
      ]
    },
    {
      "cell_type": "code",
      "execution_count": null,
      "metadata": {
        "id": "bpuB7YSIyXDl"
      },
      "outputs": [],
      "source": [
        "!cp config.example.toml config.toml"
      ]
    },
    {
      "cell_type": "code",
      "execution_count": null,
      "metadata": {
        "id": "WWz_jquTj1lE"
      },
      "outputs": [],
      "source": [
        "import torch\n",
        "torch.cuda.empty_cache()"
      ]
    },
    {
      "cell_type": "code",
      "execution_count": null,
      "metadata": {
        "colab": {
          "base_uri": "https://localhost:8080/"
        },
        "id": "Ccompin62VAp",
        "outputId": "1c833972-6776-4312-c95b-86923803d196"
      },
      "outputs": [],
      "source": [
        "NGROK_AUTH_TOKEN = \"\"\n",
        "import os\n",
        "import time\n",
        "from pyngrok import ngrok, conf\n",
        "ngrok.kill()  # đảm bảo không có tunnel nào đang mở\n",
        "\n",
        "\n",
        "# Đặt biến môi trường cho ngrok\n",
        "conf.get_default().auth_token = NGROK_AUTH_TOKEN\n",
        "\n",
        "# Kiểm tra file Streamlit có tồn tại không\n",
        "streamlit_file = \"./webui/Main.py\"\n",
        "if not os.path.isfile(streamlit_file):\n",
        "    raise FileNotFoundError(f\"❌ Không tìm thấy file: {streamlit_file}\")\n",
        "\n",
        "# Đặt đường dẫn hiện tại cho PYTHONPATH\n",
        "os.environ[\"PYTHONPATH\"] = os.getcwd()\n",
        "\n",
        "# Chạy Streamlit (nền) và chuyển log sang tệp để kiểm tra\n",
        "print(\"🚀 Đang chạy Streamlit...\")\n",
        "!streamlit run {streamlit_file} --server.enableCORS=True --browser.gatherUsageStats=False > log.txt 2>&1 &\n",
        "\n",
        "# Đợi Streamlit khởi động\n",
        "time.sleep(8)\n",
        "\n",
        "# Kiểm tra log có lỗi không (tuỳ chọn, có thể bỏ qua)\n",
        "with open(\"log.txt\", \"r\") as f:\n",
        "    logs = f.read()\n",
        "    if \"Traceback\" in logs:\n",
        "        print(\"⚠️ Có lỗi trong quá trình chạy Streamlit:\")\n",
        "        print(logs.splitlines()[-20:])  # In 20 dòng cuối\n",
        "    else:\n",
        "        print(\"✅ Streamlit đã chạy thành công.\")\n",
        "\n",
        "# Mở ngrok tunnel\n",
        "print(\"🌐 Đang tạo đường hầm với ngrok...\")\n",
        "public_url = ngrok.connect(8501)\n",
        "print(f\"\\n🔗 Truy cập WebUI tại: {public_url}\")"
      ]
    }
  ],
  "metadata": {
    "accelerator": "GPU",
    "colab": {
      "gpuType": "T4",
      "provenance": []
    },
    "kernelspec": {
      "display_name": "Python 3",
      "name": "python3"
    },
    "language_info": {
      "name": "python"
    }
  },
  "nbformat": 4,
  "nbformat_minor": 0
}
